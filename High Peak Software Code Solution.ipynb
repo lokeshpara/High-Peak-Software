{
 "cells": [
  {
   "cell_type": "code",
   "execution_count": 294,
   "id": "1db741a8",
   "metadata": {},
   "outputs": [],
   "source": [
    "# read the input file and get data from that file\n",
    "def collectingInput(filename):\n",
    "    listFormat = []\n",
    "    dictonary = {}\n",
    "    f = open(filename)\n",
    "    for line in f:\n",
    "        val = line.split(\":\")\n",
    "        listFormat.append(val)\n",
    "        \n",
    "# del line spaces    \n",
    "\n",
    "    for i,v in enumerate(listFormat): \n",
    "        if len(v) != 2:\n",
    "            del listFormat[i]\n",
    "            \n",
    "# convert dictonary\n",
    "\n",
    "    for i in listFormat[2:]:\n",
    "        dictonary[i[0]] = int(i[1])\n",
    "        \n",
    "# sorting\n",
    "\n",
    "    sorted_dict = sorted(dictonary.items(),key = lambda v: v[1])\n",
    "   \n",
    "    return sorted_dict, int(listFormat[0][1])"
   ]
  },
  {
   "cell_type": "code",
   "execution_count": 299,
   "id": "29fc037b",
   "metadata": {},
   "outputs": [],
   "source": [
    "data,employees=collectingInput(\"input3.txt\")"
   ]
  },
  {
   "cell_type": "code",
   "execution_count": 300,
   "id": "b31f48e5",
   "metadata": {},
   "outputs": [
    {
     "name": "stdout",
     "output_type": "stream",
     "text": [
      "The goodies selected for distribution are:\n",
      "\n",
      "Microwave Oven : 9800 \n",
      "Alexa : 9999 \n",
      "And the difference between the chosen goodie with highest price and the lowest price is 199 \n",
      "\n"
     ]
    }
   ],
   "source": [
    "def number(employees,sorted_dict):\n",
    "   \n",
    "    miniDifference = 0\n",
    "    te=employees-1\n",
    "    startindex = 0\n",
    "    stopindex = 0\n",
    "    \n",
    "    for i in range((len(sorted_dict)-employees)):\n",
    "        difference = sorted_dict[te][1]-sorted_dict[i][1] \n",
    "        te+=1\n",
    "        if miniDifference == 0 or difference < miniDifference :\n",
    "            miniDifference = difference\n",
    "            startindex = i\n",
    "            stopindex = te\n",
    "            \n",
    "#     create new file for output file\n",
    "    f = open(\"output3.txt\", \"a\")\n",
    "    f.write(\"The goodies selected for distribution are:\\n\")\n",
    "    f.write(\"\\n\")\n",
    "    for i in range(startindex,stopindex):\n",
    "        f.write(f\"{sorted_dict[i][0]} : {sorted_dict[i][1]} \\n\")\n",
    "    f.write(f\"And the difference between the chosen goodie with highest price and the lowest price is {miniDifference} \\n\")\n",
    "    f.close()\n",
    "    f = open(\"output3.txt\")\n",
    "    return print(f.read())\n",
    "number(employees,data)  "
   ]
  },
  {
   "cell_type": "code",
   "execution_count": null,
   "id": "60afaa98",
   "metadata": {},
   "outputs": [],
   "source": []
  }
 ],
 "metadata": {
  "kernelspec": {
   "display_name": "Python 3",
   "language": "python",
   "name": "python3"
  },
  "language_info": {
   "codemirror_mode": {
    "name": "ipython",
    "version": 3
   },
   "file_extension": ".py",
   "mimetype": "text/x-python",
   "name": "python",
   "nbconvert_exporter": "python",
   "pygments_lexer": "ipython3",
   "version": "3.8.8"
  }
 },
 "nbformat": 4,
 "nbformat_minor": 5
}
